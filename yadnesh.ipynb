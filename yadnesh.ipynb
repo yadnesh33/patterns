{
 "cells": [
  {
   "cell_type": "code",
   "execution_count": 4,
   "id": "08f50766",
   "metadata": {},
   "outputs": [
    {
     "name": "stdout",
     "output_type": "stream",
     "text": [
      "****\n",
      "***\n",
      "**\n",
      "*\n",
      "\n"
     ]
    }
   ],
   "source": [
    "for i in range (1,6,1):\n",
    "    for j in range (1,(5-i)+1,1):\n",
    "        print (\"*\",end='')\n",
    "    print (\"\")"
   ]
  },
  {
   "cell_type": "code",
   "execution_count": 5,
   "id": "de6c6203",
   "metadata": {},
   "outputs": [
    {
     "name": "stdout",
     "output_type": "stream",
     "text": [
      "*\n",
      "**\n",
      "***\n",
      "****\n",
      "*****\n"
     ]
    }
   ],
   "source": [
    "for i in range (1,6,1):\n",
    "    for j in range (1,i+1,1):\n",
    "        print (\"*\",end='')\n",
    "    print (\"\")"
   ]
  },
  {
   "cell_type": "code",
   "execution_count": 2,
   "id": "21fad31b",
   "metadata": {},
   "outputs": [
    {
     "name": "stdout",
     "output_type": "stream",
     "text": [
      "*  \n",
      "* *  \n",
      "* * *  \n",
      "* * * *  \n",
      "* * * * *  \n"
     ]
    }
   ],
   "source": [
    "for i in range (1,6,1):\n",
    "    for j in range (1,i+1,1):\n",
    "        print (\"* \",end='')\n",
    "    print (\" \")"
   ]
  },
  {
   "cell_type": "code",
   "execution_count": 12,
   "id": "e1cb3d14",
   "metadata": {},
   "outputs": [
    {
     "name": "stdout",
     "output_type": "stream",
     "text": [
      "     * \n",
      "    * * \n",
      "   * * * \n",
      "  * * * * \n",
      " * * * * * \n"
     ]
    }
   ],
   "source": [
    "for i in range (1,6,1):\n",
    "    for j in range (1,(5-i)+1,1):\n",
    "        print (\" \",end='')\n",
    "    for j in range (1,i+1,1):\n",
    "        print (\" *\",end='')\n",
    "    print (\" \")"
   ]
  },
  {
   "cell_type": "code",
   "execution_count": 13,
   "id": "32033c27",
   "metadata": {},
   "outputs": [
    {
     "name": "stdout",
     "output_type": "stream",
     "text": [
      "    * \n",
      "   ** \n",
      "  *** \n",
      " **** \n",
      "***** \n"
     ]
    }
   ],
   "source": [
    "for i in range (1,6,1):\n",
    "    for j in range (1,(5-i)+1,1):\n",
    "        print (\" \",end='')\n",
    "    for j in range (1,i+1,1):\n",
    "        print (\"*\",end='')\n",
    "    print (\" \")"
   ]
  },
  {
   "cell_type": "code",
   "execution_count": 15,
   "id": "327a08ae",
   "metadata": {},
   "outputs": [
    {
     "name": "stdout",
     "output_type": "stream",
     "text": [
      "enter number1\n",
      "enter number2\n",
      "enter number3\n",
      "enter number4\n",
      "enter number5\n",
      "enter number6\n",
      "enter number7\n",
      "enter number8\n",
      "enter number9\n",
      "enter numberq\n",
      "45\n",
      "362880\n"
     ]
    }
   ],
   "source": [
    "valuea= input('enter number')\n",
    "sum= 0\n",
    "product= 1\n",
    "while (valuea != 'q'):\n",
    "    value= int(valuea)\n",
    "    sum= sum+value\n",
    "    product= product* value\n",
    "    valuea= input('enter number')\n",
    "else:\n",
    "    print(sum)\n",
    "    print(product)"
   ]
  },
  {
   "cell_type": "code",
   "execution_count": 19,
   "id": "f7a947e7",
   "metadata": {},
   "outputs": [
    {
     "name": "stdout",
     "output_type": "stream",
     "text": [
      "enter number1\n",
      "enter number2\n",
      "enter number3\n",
      "enter number4\n",
      "enter number5\n",
      "enter numberq\n",
      "15 sum\n",
      "120 product\n",
      "3.0 avg\n"
     ]
    }
   ],
   "source": [
    "valuea= input('enter number')\n",
    "sum= 0\n",
    "product= 1\n",
    "count= 0\n",
    "while (valuea != 'q'):\n",
    "    value= int(valuea)\n",
    "    sum= sum+value\n",
    "    product= product* value\n",
    "    count= count+1\n",
    "    valuea= input('enter number')\n",
    "else:\n",
    "    print(sum, 'sum')\n",
    "    print(product, 'product')\n",
    "    print (sum/count, 'avg')"
   ]
  },
  {
   "cell_type": "code",
   "execution_count": 2,
   "id": "8fbee833",
   "metadata": {},
   "outputs": [
    {
     "name": "stdout",
     "output_type": "stream",
     "text": [
      "Enter a number:5\n",
      "2.283333333333333\n"
     ]
    }
   ],
   "source": [
    "valuea = int(input('Enter a number:'))\n",
    "sum = 0\n",
    "for i in range(1, valuea + 1):\n",
    "    sum += 1/i\n",
    "print(sum)\n"
   ]
  },
  {
   "cell_type": "code",
   "execution_count": 6,
   "id": "8258a834",
   "metadata": {},
   "outputs": [
    {
     "name": "stdout",
     "output_type": "stream",
     "text": [
      "*\n",
      "oo\n",
      "***\n",
      "oooo\n",
      "*****\n"
     ]
    }
   ],
   "source": [
    "for i in range (1,6,1):\n",
    "    for j in range (1,i+1,1):\n",
    "        if i%2 == 0:\n",
    "            print(\"o\",end='')\n",
    "        else:\n",
    "            print(\"*\",end='')\n",
    "    print(\"\")"
   ]
  },
  {
   "cell_type": "code",
   "execution_count": 6,
   "id": "5fd505e4",
   "metadata": {},
   "outputs": [
    {
     "name": "stdout",
     "output_type": "stream",
     "text": [
      "tujhe aksa beach ghuma du, aa chalti kya?\n",
      "ayein ayein ayein ayein ayein\n",
      "ayein ayein ayein ayein ayein\n",
      "ayein ayein ayein ayein ayein\n",
      "ayein ayein ayein ayein ayein\n",
      "ayein ayein ayein ayein ayein\n"
     ]
    }
   ],
   "source": [
    "valuea= input('')\n",
    "for i in range(1,6,1):\n",
    "    if valuea== 'tujhe aksa beach ghuma du, aa chalti kya?':\n",
    "        print(\"ayein ayein ayein ayein ayein\")"
   ]
  },
  {
   "cell_type": "code",
   "execution_count": 1,
   "id": "c64823fa",
   "metadata": {},
   "outputs": [
    {
     "name": "stdout",
     "output_type": "stream",
     "text": [
      "\n",
      "Welcome to the Car Rental Shop!\n",
      "Please select an option:\n",
      "1. View available cars\n",
      "2. Rent a car\n",
      "3. Show Customers Information\n",
      "4. Show earnings\n",
      "5. Return Car\n",
      "6. Exit\n",
      "Enter your choice: 1\n",
      "\n",
      "Available cars:\n",
      "Car ID: 1, Brand: BMW, Hourly Rate: ₹20\n",
      "Car ID: 2, Brand: Mercedes, Hourly Rate: ₹30\n",
      "Car ID: 3, Brand: Audi, Hourly Rate: ₹40\n",
      "\n",
      "Welcome to the Car Rental Shop!\n",
      "Please select an option:\n",
      "1. View available cars\n",
      "2. Rent a car\n",
      "3. Show Customers Information\n",
      "4. Show earnings\n",
      "5. Return Car\n",
      "6. Exit\n",
      "Enter your choice: 2\n",
      "Enter car ID: 2\n",
      "For how many hours do you want to rent the car? 1\n",
      "Enter your name:Harsh\n",
      "Harsh has rented a car for 1 hours. Your Bill Amount: ₹30\n",
      "\n",
      "Welcome to the Car Rental Shop!\n",
      "Please select an option:\n",
      "1. View available cars\n",
      "2. Rent a car\n",
      "3. Show Customers Information\n",
      "4. Show earnings\n",
      "5. Return Car\n",
      "6. Exit\n",
      "Enter your choice: 4\n",
      "Total earnings: ₹30\n",
      "\n",
      "Welcome to the Car Rental Shop!\n",
      "Please select an option:\n",
      "1. View available cars\n",
      "2. Rent a car\n",
      "3. Show Customers Information\n",
      "4. Show earnings\n",
      "5. Return Car\n",
      "6. Exit\n",
      "Enter your choice: exit\n"
     ]
    },
    {
     "ename": "ValueError",
     "evalue": "invalid literal for int() with base 10: 'exit'",
     "output_type": "error",
     "traceback": [
      "\u001b[1;31m---------------------------------------------------------------------------\u001b[0m",
      "\u001b[1;31mValueError\u001b[0m                                Traceback (most recent call last)",
      "Cell \u001b[1;32mIn[1], line 22\u001b[0m\n\u001b[0;32m     19\u001b[0m \u001b[38;5;28mprint\u001b[39m(\u001b[38;5;124m\"\u001b[39m\u001b[38;5;124m5. Return Car\u001b[39m\u001b[38;5;124m\"\u001b[39m)\n\u001b[0;32m     20\u001b[0m \u001b[38;5;28mprint\u001b[39m(\u001b[38;5;124m\"\u001b[39m\u001b[38;5;124m6. Exit\u001b[39m\u001b[38;5;124m\"\u001b[39m)\n\u001b[1;32m---> 22\u001b[0m option \u001b[38;5;241m=\u001b[39m \u001b[38;5;28mint\u001b[39m(\u001b[38;5;28minput\u001b[39m(\u001b[38;5;124m\"\u001b[39m\u001b[38;5;124mEnter your choice: \u001b[39m\u001b[38;5;124m\"\u001b[39m))\n\u001b[0;32m     24\u001b[0m \u001b[38;5;28;01mif\u001b[39;00m option \u001b[38;5;241m==\u001b[39m \u001b[38;5;241m1\u001b[39m:\n\u001b[0;32m     25\u001b[0m     \u001b[38;5;28mprint\u001b[39m(\u001b[38;5;124m\"\u001b[39m\u001b[38;5;130;01m\\n\u001b[39;00m\u001b[38;5;124mAvailable cars:\u001b[39m\u001b[38;5;124m\"\u001b[39m)\n",
      "\u001b[1;31mValueError\u001b[0m: invalid literal for int() with base 10: 'exit'"
     ]
    }
   ],
   "source": [
    "##mera wala\n",
    "\n",
    "\n",
    "car1 = {\"id\": 1, \"brand\": \"BMW\", \"rent\": 20, \"available\": True}\n",
    "car2 = {\"id\": 2, \"brand\": \"Mercedes\", \"rent\": 30, \"available\": True}\n",
    "car3 = {\"id\": 3, \"brand\": \"Audi\", \"rent\": 40, \"available\": True}\n",
    "\n",
    "cars = {\"car1\": car1, \"car2\": car2, \"car3\": car3}\n",
    "customers = []\n",
    "earnings = 0\n",
    "\n",
    "while True:\n",
    "    print(\"\\nWelcome to the Car Rental Shop!\")\n",
    "    print(\"Please select an option:\")\n",
    "    print(\"1. View available cars\")\n",
    "    print(\"2. Rent a car\")\n",
    "    print(\"3. Show Customers Information\")\n",
    "    print(\"4. Show earnings\")\n",
    "    print(\"5. Return Car\")\n",
    "    print(\"6. Exit\")\n",
    "\n",
    "    option = int(input(\"Enter your choice: \"))\n",
    "\n",
    "    if option == 1:\n",
    "        print(\"\\nAvailable cars:\")\n",
    "        for i, car in cars.items():\n",
    "            if car[\"available\"]:\n",
    "                print(f\"Car ID: {car['id']}, Brand: {car['brand']}, Hourly Rate: ₹{car['rent']}\")\n",
    "\n",
    "    elif option == 2:\n",
    "        car_id = int(input(\"Enter car ID: \"))\n",
    "        hours = int(input(\"For how many hours do you want to rent the car? \"))\n",
    "\n",
    "        for car_name, car in cars.items():\n",
    "            if car[\"id\"] == car_id and car[\"available\"]:\n",
    "                name = input(\"Enter your name:\")\n",
    "                customer_info = {\n",
    "                    \"c_name\": name,\n",
    "                    \"car_id\": car[\"id\"],\n",
    "                    \"rented_car\": car[\"brand\"],\n",
    "                    \"hours\": hours,\n",
    "                    \"bill_amount\": hours * car[\"rent\"]\n",
    "                }\n",
    "                customers.append(customer_info)\n",
    "                print(f\"{name} has rented a car for {hours} hours. Your Bill Amount: ₹{customer_info['bill_amount']}\")\n",
    "                car[\"available\"] = False\n",
    "                earnings= earnings+ customer_info['bill_amount']\n",
    "                break\n",
    "        else:\n",
    "            print(\"Car not available.\")\n",
    "\n",
    "    elif option == 3:\n",
    "        print(\"\\nCustomers Information:\")\n",
    "        for customer in customers:\n",
    "            print(f\"Customer Name: {customer['c_name']}, Car ID: {customer['car_id']}, Rented Car: {customer['rented_car']}, Hours: {customer['hours']}, Bill Amount: ₹{customer['bill_amount']}\")\n",
    "\n",
    "    elif option == 4:\n",
    "        print(f\"Total earnings: ₹{earnings}\")\n",
    "        \n",
    "    elif option == 5:\n",
    "        return_id= int(input(\"Enter Car ID you want to retun:\"))\n",
    "        for car_name, car in cars.items():\n",
    "            if return_id == car[\"id\"] and not car['available']:\n",
    "                customers.remove(customer)\n",
    "                car['available']= True\n",
    "                print(\"Car returned Successfully.\")\n",
    "                break\n",
    "            else:\n",
    "                print(\"Car not returned.\")\n",
    "\n",
    "    elif option == 6:\n",
    "        print(\"Thank You for using our services.\")\n",
    "        break\n"
   ]
  },
  {
   "cell_type": "code",
   "execution_count": 1,
   "id": "e597c7af",
   "metadata": {},
   "outputs": [
    {
     "name": "stdout",
     "output_type": "stream",
     "text": [
      "shuffled letters: ['r', 'o', 'a', 'd', 't', 'r', 'i', 'p']\n",
      "Enter Your Guess or 'exit' to quit: road\n",
      "\n",
      "Congratulations! Your guess matches one of the original words. Guess more:\n",
      "Enter Your Guess or 'exit' to quit: trip\n",
      "\n",
      "Congratulations! Your guess matches one of the original words. Guess more:\n",
      "Enter Your Guess or 'exit' to quit: drip\n",
      "\n",
      "Oops! Wrong Guess. Try Again, Chances Remaining: 2\n",
      "Enter Your Guess or 'exit' to quit: dip\n",
      "\n",
      "Oops! Wrong Guess. Try Again, Chances Remaining: 1\n",
      "Enter Your Guess or 'exit' to quit: exit\n",
      "You quit the game. Your Total Score is: 4\n",
      "Your Score: 4\n",
      "shuffled letters: ['f', 'u', 'n', 'd', 'a', 'y']\n"
     ]
    },
    {
     "ename": "KeyboardInterrupt",
     "evalue": "Interrupted by user",
     "output_type": "error",
     "traceback": [
      "\u001b[1;31m---------------------------------------------------------------------------\u001b[0m",
      "\u001b[1;31mKeyboardInterrupt\u001b[0m                         Traceback (most recent call last)",
      "Cell \u001b[1;32mIn[1], line 25\u001b[0m\n\u001b[0;32m     22\u001b[0m score \u001b[38;5;241m=\u001b[39m \u001b[38;5;241m0\u001b[39m\n\u001b[0;32m     24\u001b[0m \u001b[38;5;28;01mwhile\u001b[39;00m original_words \u001b[38;5;129;01mand\u001b[39;00m chances \u001b[38;5;241m>\u001b[39m \u001b[38;5;241m0\u001b[39m:\n\u001b[1;32m---> 25\u001b[0m     user_guess \u001b[38;5;241m=\u001b[39m \u001b[38;5;28minput\u001b[39m(\u001b[38;5;124m\"\u001b[39m\u001b[38;5;124mEnter Your Guess or \u001b[39m\u001b[38;5;124m'\u001b[39m\u001b[38;5;124mexit\u001b[39m\u001b[38;5;124m'\u001b[39m\u001b[38;5;124m to quit: \u001b[39m\u001b[38;5;124m\"\u001b[39m)\n\u001b[0;32m     27\u001b[0m     \u001b[38;5;28;01mif\u001b[39;00m user_guess \u001b[38;5;241m==\u001b[39m \u001b[38;5;124m\"\u001b[39m\u001b[38;5;124mexit\u001b[39m\u001b[38;5;124m\"\u001b[39m:\n\u001b[0;32m     28\u001b[0m         total_score\u001b[38;5;241m=\u001b[39m total_score\u001b[38;5;241m+\u001b[39m score\n",
      "File \u001b[1;32m~\\anaconda3\\Lib\\site-packages\\ipykernel\\kernelbase.py:1202\u001b[0m, in \u001b[0;36mKernel.raw_input\u001b[1;34m(self, prompt)\u001b[0m\n\u001b[0;32m   1200\u001b[0m     msg \u001b[38;5;241m=\u001b[39m \u001b[38;5;124m\"\u001b[39m\u001b[38;5;124mraw_input was called, but this frontend does not support input requests.\u001b[39m\u001b[38;5;124m\"\u001b[39m\n\u001b[0;32m   1201\u001b[0m     \u001b[38;5;28;01mraise\u001b[39;00m StdinNotImplementedError(msg)\n\u001b[1;32m-> 1202\u001b[0m \u001b[38;5;28;01mreturn\u001b[39;00m \u001b[38;5;28mself\u001b[39m\u001b[38;5;241m.\u001b[39m_input_request(\n\u001b[0;32m   1203\u001b[0m     \u001b[38;5;28mstr\u001b[39m(prompt),\n\u001b[0;32m   1204\u001b[0m     \u001b[38;5;28mself\u001b[39m\u001b[38;5;241m.\u001b[39m_parent_ident[\u001b[38;5;124m\"\u001b[39m\u001b[38;5;124mshell\u001b[39m\u001b[38;5;124m\"\u001b[39m],\n\u001b[0;32m   1205\u001b[0m     \u001b[38;5;28mself\u001b[39m\u001b[38;5;241m.\u001b[39mget_parent(\u001b[38;5;124m\"\u001b[39m\u001b[38;5;124mshell\u001b[39m\u001b[38;5;124m\"\u001b[39m),\n\u001b[0;32m   1206\u001b[0m     password\u001b[38;5;241m=\u001b[39m\u001b[38;5;28;01mFalse\u001b[39;00m,\n\u001b[0;32m   1207\u001b[0m )\n",
      "File \u001b[1;32m~\\anaconda3\\Lib\\site-packages\\ipykernel\\kernelbase.py:1245\u001b[0m, in \u001b[0;36mKernel._input_request\u001b[1;34m(self, prompt, ident, parent, password)\u001b[0m\n\u001b[0;32m   1242\u001b[0m \u001b[38;5;28;01mexcept\u001b[39;00m \u001b[38;5;167;01mKeyboardInterrupt\u001b[39;00m:\n\u001b[0;32m   1243\u001b[0m     \u001b[38;5;66;03m# re-raise KeyboardInterrupt, to truncate traceback\u001b[39;00m\n\u001b[0;32m   1244\u001b[0m     msg \u001b[38;5;241m=\u001b[39m \u001b[38;5;124m\"\u001b[39m\u001b[38;5;124mInterrupted by user\u001b[39m\u001b[38;5;124m\"\u001b[39m\n\u001b[1;32m-> 1245\u001b[0m     \u001b[38;5;28;01mraise\u001b[39;00m \u001b[38;5;167;01mKeyboardInterrupt\u001b[39;00m(msg) \u001b[38;5;28;01mfrom\u001b[39;00m \u001b[38;5;28;01mNone\u001b[39;00m\n\u001b[0;32m   1246\u001b[0m \u001b[38;5;28;01mexcept\u001b[39;00m \u001b[38;5;167;01mException\u001b[39;00m:\n\u001b[0;32m   1247\u001b[0m     \u001b[38;5;28mself\u001b[39m\u001b[38;5;241m.\u001b[39mlog\u001b[38;5;241m.\u001b[39mwarning(\u001b[38;5;124m\"\u001b[39m\u001b[38;5;124mInvalid Message:\u001b[39m\u001b[38;5;124m\"\u001b[39m, exc_info\u001b[38;5;241m=\u001b[39m\u001b[38;5;28;01mTrue\u001b[39;00m)\n",
      "\u001b[1;31mKeyboardInterrupt\u001b[0m: Interrupted by user"
     ]
    }
   ],
   "source": [
    "letters = [['r', 'o', 'a', 'd', 't', 'r', 'i', 'p'],\n",
    "           ['f', 'u', 'n', 'd', 'a', 'y'],\n",
    "           ['c', 'a', 't', 'd', 'o', 'g'],\n",
    "           ['p', 'a', 'r', 'k', 'i', 'n', 'g']]\n",
    "\n",
    "words = [['trip', 'road', 'port', 'trap', 'part', 'dot', 'drip', 'rip', 'dip', 'roadtrip'],\n",
    "         ['fund', 'day', 'fun', 'and', 'fan'],\n",
    "         ['dog', 'cat', 'act', 'tag', 'go'],\n",
    "         ['park', 'king', 'ring', 'nap', 'grip']]\n",
    "\n",
    "\n",
    "user_guess = \"\"\n",
    "total_score= 0\n",
    "\n",
    "for i in range(len(words)):\n",
    "    original_words = words[i]\n",
    "    shuffled_letters = letters[i]\n",
    "\n",
    "    print(f\"shuffled letters: {shuffled_letters}\")\n",
    "\n",
    "    chances = 3\n",
    "    score = 0\n",
    "\n",
    "    while original_words and chances > 0:\n",
    "        user_guess = input(\"Enter Your Guess or 'exit' to quit: \")\n",
    "\n",
    "        if user_guess == \"exit\":\n",
    "            total_score= total_score+ score\n",
    "            print(f\"You quit the game. Your Total Score is: {total_score}\")\n",
    "            break\n",
    "\n",
    "        if user_guess in original_words:\n",
    "            print(\"\\nCongratulations! Your guess matches one of the original words. Guess more:\")\n",
    "            score= score + 2\n",
    "            original_words.remove(user_guess)\n",
    "        else:\n",
    "            chances = chances - 1\n",
    "            print(f\"\\nOops! Wrong Guess. Try Again, Chances Remaining: {chances}\")\n",
    "            \n",
    "\n",
    "    if chances == 0:\n",
    "        print(\"\\nYou're out of chances. Moving to the next set.\")\n",
    "    else:\n",
    "        print(f\"Your Score: {score}\")\n",
    "        total_score= total_score+ score\n",
    "\n",
    "print(f\"Your Total Score is: {total_score}\")\n"
   ]
  },
  {
   "cell_type": "code",
   "execution_count": 16,
   "id": "de57cb6d",
   "metadata": {},
   "outputs": [
    {
     "name": "stdout",
     "output_type": "stream",
     "text": [
      "Matrix1 * Matrix2 = \n",
      "[64, 70, 83]\n",
      "[178, 194, 227]\n",
      "[361, 400, 501]\n"
     ]
    }
   ],
   "source": [
    "matrix1 = [[1,2, 3], [3,4, 9], [12,13,14]]\n",
    "matrix2= [[5,6, 10], [7,8, 11], [15,16,17]]\n",
    "\n",
    "result= [[0,0, 0], \n",
    "         [0,0, 0], \n",
    "         [0,0,0]]\n",
    "for i in range(len(matrix1)):\n",
    "    for j in range(len(matrix2)):\n",
    "        for k in range(len(matrix2[0])):\n",
    "            result[i][j] = result[i][j]+ (matrix1[i][k] * matrix2[k][j])\n",
    "            \n",
    "print(\"Matrix1 * Matrix2 = \")\n",
    "for row in result:\n",
    "    print(row)"
   ]
  },
  {
   "cell_type": "code",
   "execution_count": 1,
   "id": "119585b2",
   "metadata": {},
   "outputs": [
    {
     "name": "stdout",
     "output_type": "stream",
     "text": [
      "Enter your password: harsh\n",
      "Password too Short. It should be atleast 8 characters.\n",
      "Enter your password: harshhhh30\n",
      "Password must contain atleast one special character.\n",
      "Enter your password: harshhhhh30@\n",
      "Password is Valid.\n"
     ]
    }
   ],
   "source": [
    "#password validator \n",
    "\n",
    "min_length= 8\n",
    "\n",
    "while True:\n",
    "    password= input(\"Enter your password: \")\n",
    "    \n",
    "    if len(password) < min_length:\n",
    "        print(f\"Password too Short. It should be atleast {min_length} characters.\")\n",
    "        continue\n",
    "        \n",
    "    has_spcl_char= False\n",
    "    special_chars= \"!@#$%^&*()_+[]{}|;:,.?\"\n",
    "        \n",
    "    for i in password:\n",
    "        if i in special_chars:\n",
    "            has_spcl_char = True\n",
    "            break\n",
    "            \n",
    "    if not has_spcl_char:\n",
    "        print(\"Password must contain atleast one special character.\")\n",
    "        continue\n",
    "            \n",
    "    has_digit= False\n",
    "    for i in password:\n",
    "        if i.isdigit():\n",
    "            has_digit= True\n",
    "            break\n",
    "    if not has_digit:\n",
    "        print(\"Password must contain at least one digit.\")\n",
    "        continue\n",
    "\n",
    "    print(\"Password is Valid.\")\n",
    "    break\n",
    "        \n"
   ]
  },
  {
   "cell_type": "code",
   "execution_count": 12,
   "id": "07788077",
   "metadata": {},
   "outputs": [
    {
     "ename": "KeyboardInterrupt",
     "evalue": "Interrupted by user",
     "output_type": "error",
     "traceback": [
      "\u001b[1;31m---------------------------------------------------------------------------\u001b[0m",
      "\u001b[1;31mKeyboardInterrupt\u001b[0m                         Traceback (most recent call last)",
      "Cell \u001b[1;32mIn[12], line 7\u001b[0m\n\u001b[0;32m      4\u001b[0m req_digit \u001b[38;5;241m=\u001b[39m \u001b[38;5;28;01mTrue\u001b[39;00m\n\u001b[0;32m      6\u001b[0m \u001b[38;5;28;01mwhile\u001b[39;00m \u001b[38;5;28;01mTrue\u001b[39;00m:\n\u001b[1;32m----> 7\u001b[0m     password \u001b[38;5;241m=\u001b[39m \u001b[38;5;28minput\u001b[39m(\u001b[38;5;124m\"\u001b[39m\u001b[38;5;124mEnter your password: \u001b[39m\u001b[38;5;124m\"\u001b[39m)\n\u001b[0;32m      9\u001b[0m     \u001b[38;5;28;01mif\u001b[39;00m \u001b[38;5;28mlen\u001b[39m(password) \u001b[38;5;241m<\u001b[39m min_length:\n\u001b[0;32m     10\u001b[0m         \u001b[38;5;28mprint\u001b[39m(\u001b[38;5;124mf\u001b[39m\u001b[38;5;124m\"\u001b[39m\u001b[38;5;124mPassword too short. It should be at least \u001b[39m\u001b[38;5;132;01m{\u001b[39;00mmin_length\u001b[38;5;132;01m}\u001b[39;00m\u001b[38;5;124m characters.\u001b[39m\u001b[38;5;124m\"\u001b[39m)\n",
      "File \u001b[1;32m~\\anaconda3\\Lib\\site-packages\\ipykernel\\kernelbase.py:1202\u001b[0m, in \u001b[0;36mKernel.raw_input\u001b[1;34m(self, prompt)\u001b[0m\n\u001b[0;32m   1200\u001b[0m     msg \u001b[38;5;241m=\u001b[39m \u001b[38;5;124m\"\u001b[39m\u001b[38;5;124mraw_input was called, but this frontend does not support input requests.\u001b[39m\u001b[38;5;124m\"\u001b[39m\n\u001b[0;32m   1201\u001b[0m     \u001b[38;5;28;01mraise\u001b[39;00m StdinNotImplementedError(msg)\n\u001b[1;32m-> 1202\u001b[0m \u001b[38;5;28;01mreturn\u001b[39;00m \u001b[38;5;28mself\u001b[39m\u001b[38;5;241m.\u001b[39m_input_request(\n\u001b[0;32m   1203\u001b[0m     \u001b[38;5;28mstr\u001b[39m(prompt),\n\u001b[0;32m   1204\u001b[0m     \u001b[38;5;28mself\u001b[39m\u001b[38;5;241m.\u001b[39m_parent_ident[\u001b[38;5;124m\"\u001b[39m\u001b[38;5;124mshell\u001b[39m\u001b[38;5;124m\"\u001b[39m],\n\u001b[0;32m   1205\u001b[0m     \u001b[38;5;28mself\u001b[39m\u001b[38;5;241m.\u001b[39mget_parent(\u001b[38;5;124m\"\u001b[39m\u001b[38;5;124mshell\u001b[39m\u001b[38;5;124m\"\u001b[39m),\n\u001b[0;32m   1206\u001b[0m     password\u001b[38;5;241m=\u001b[39m\u001b[38;5;28;01mFalse\u001b[39;00m,\n\u001b[0;32m   1207\u001b[0m )\n",
      "File \u001b[1;32m~\\anaconda3\\Lib\\site-packages\\ipykernel\\kernelbase.py:1245\u001b[0m, in \u001b[0;36mKernel._input_request\u001b[1;34m(self, prompt, ident, parent, password)\u001b[0m\n\u001b[0;32m   1242\u001b[0m \u001b[38;5;28;01mexcept\u001b[39;00m \u001b[38;5;167;01mKeyboardInterrupt\u001b[39;00m:\n\u001b[0;32m   1243\u001b[0m     \u001b[38;5;66;03m# re-raise KeyboardInterrupt, to truncate traceback\u001b[39;00m\n\u001b[0;32m   1244\u001b[0m     msg \u001b[38;5;241m=\u001b[39m \u001b[38;5;124m\"\u001b[39m\u001b[38;5;124mInterrupted by user\u001b[39m\u001b[38;5;124m\"\u001b[39m\n\u001b[1;32m-> 1245\u001b[0m     \u001b[38;5;28;01mraise\u001b[39;00m \u001b[38;5;167;01mKeyboardInterrupt\u001b[39;00m(msg) \u001b[38;5;28;01mfrom\u001b[39;00m \u001b[38;5;28;01mNone\u001b[39;00m\n\u001b[0;32m   1246\u001b[0m \u001b[38;5;28;01mexcept\u001b[39;00m \u001b[38;5;167;01mException\u001b[39;00m:\n\u001b[0;32m   1247\u001b[0m     \u001b[38;5;28mself\u001b[39m\u001b[38;5;241m.\u001b[39mlog\u001b[38;5;241m.\u001b[39mwarning(\u001b[38;5;124m\"\u001b[39m\u001b[38;5;124mInvalid Message:\u001b[39m\u001b[38;5;124m\"\u001b[39m, exc_info\u001b[38;5;241m=\u001b[39m\u001b[38;5;28;01mTrue\u001b[39;00m)\n",
      "\u001b[1;31mKeyboardInterrupt\u001b[0m: Interrupted by user"
     ]
    }
   ],
   "source": [
    "# Password validator\n",
    "min_length = 8\n",
    "special_char = True\n",
    "req_digit = True\n",
    "\n",
    "while True:\n",
    "    password = input(\"Enter your password: \")\n",
    "    \n",
    "    if len(password) < min_length:\n",
    "        print(f\"Password too short. It should be at least {min_length} characters.\")\n",
    "        continue\n",
    "    \n",
    "    has_spcl_char = False\n",
    "    special_chars = \"!@#$%^&*()_+[]{}|;:,.?\"\n",
    "    \n",
    "    for i in password:\n",
    "        if i in special_chars:\n",
    "            has_spcl_char = True\n",
    "            break\n",
    "\n",
    "    if not has_spcl_char and special_char:\n",
    "        print(\"Password must contain at least one special character.\")\n",
    "        continue\n",
    "\n",
    "    has_digit = False\n",
    "    for i in password:\n",
    "        if i.isdigit():harshh\n",
    "            has_digit = True\n",
    "            break\n",
    "\n",
    "    if not has_digit and req_digit:\n",
    "        print(\"Password must contain at least one digit.\")\n",
    "        continue\n",
    "\n",
    "    print(\"Password is valid.\")\n",
    "    break\n"
   ]
  },
  {
   "cell_type": "code",
   "execution_count": 8,
   "id": "f7a4bcb2",
   "metadata": {},
   "outputs": [
    {
     "name": "stdout",
     "output_type": "stream",
     "text": [
      "Enter your password: harshhhhh30\n",
      "Password must contain atleast one special character.\n",
      "Enter your password: harshhhhh30@\n",
      "Password is Valid.\n"
     ]
    }
   ],
   "source": [
    "#password validator \n",
    "\n",
    "min_length= 8\n",
    "\n",
    "while True:\n",
    "    password= input(\"Enter your password: \")\n",
    "    \n",
    "    if len(password) < min_length:\n",
    "        print(f\"Password too Short. It should be atleast {min_length} characters.\")\n",
    "        continue\n",
    "        \n",
    "    has_spcl_char= False\n",
    "    special_chars= \"!@#$%^&*()_+[]{}|;:,.?\"\n",
    "        \n",
    "    for i in password:\n",
    "        if i in special_chars:\n",
    "            has_spcl_char = True\n",
    "            break\n",
    "            \n",
    "    if has_spcl_char== False:\n",
    "        print(\"Password must contain atleast one special character.\")\n",
    "        continue\n",
    "            \n",
    "    has_digit= False\n",
    "    for i in password:\n",
    "        if i.isdigit():\n",
    "            has_digit= True\n",
    "            break\n",
    "    if has_digit== False:\n",
    "        print(\"Password must contain at least one digit.\")\n",
    "        continue\n",
    "\n",
    "    print(\"Password is Valid.\")\n",
    "    break\n",
    "        \n"
   ]
  },
  {
   "cell_type": "code",
   "execution_count": 2,
   "id": "1d1225ed",
   "metadata": {},
   "outputs": [
    {
     "name": "stdout",
     "output_type": "stream",
     "text": [
      "Shuffled letters: ['t', 'p', 'r', 'r', 'd', 'i', 'a', 'o']\n",
      "Enter Your Guess or 'exit' to quit: road trip\n",
      "\n",
      "Congratulations! Your guess matches one of the original words. Guess more:\n",
      "Your Score: 2\n",
      "Shuffled letters: ['f', 'd', 'y', 'u', 'n', 'a']\n",
      "Enter Your Guess or 'exit' to quit: funday\n",
      "\n",
      "Congratulations! Your guess matches one of the original words. Guess more:\n",
      "Your Score: 2\n",
      "Shuffled letters: ['c', 'a', 't']\n",
      "Enter Your Guess or 'exit' to quit: cat\n",
      "\n",
      "Congratulations! Your guess matches one of the original words. Guess more:\n",
      "Enter Your Guess or 'exit' to quit: act\n",
      "\n",
      "Congratulations! Your guess matches one of the original words. Guess more:\n",
      "Your Score: 4\n",
      "Shuffled letters: ['g', 'r', 'p', 'a', 'n', 'i', 'k']\n",
      "Enter Your Guess or 'exit' to quit: parking\n",
      "\n",
      "Congratulations! Your guess matches one of the original words. Guess more:\n",
      "Your Score: 2\n",
      "Your Total Score is: 10\n"
     ]
    }
   ],
   "source": [
    "import random\n",
    "\n",
    "letters = [['r', 'o', 'a', 'd', 't', 'r', 'i', 'p'],\n",
    "           ['f', 'u', 'n', 'd', 'a', 'y'],\n",
    "           ['c', 'a', 't'],\n",
    "           ['p', 'a', 'r', 'k', 'i', 'n', 'g']]\n",
    "\n",
    "words = [[ 'road trip'],\n",
    "         ['funday'],\n",
    "         ['cat', 'act' ],\n",
    "         ['parking']]\n",
    "\n",
    "total_score = 0\n",
    "\n",
    "for i in range(len(words)):\n",
    "    original_words = words[i]\n",
    "    shuffled_letters = letters[i]\n",
    "    random.shuffle(shuffled_letters)  # Shuffle the letters\n",
    "\n",
    "    print(f\"Shuffled letters: {shuffled_letters}\")\n",
    "\n",
    "    chances = 3\n",
    "    score = 0\n",
    "    exit_flag = False\n",
    "\n",
    "    while original_words and chances > 0:\n",
    "        user_guess = input(\"Enter Your Guess or 'exit' to quit: \")\n",
    "\n",
    "        if user_guess == \"exit\":\n",
    "            total_score += score\n",
    "            print(f\"You quit the game. Your Total Score is: {total_score}\")\n",
    "            exit_flag = True\n",
    "            break\n",
    "\n",
    "        if user_guess in original_words:\n",
    "            print(\"\\nCongratulations! Your guess matches one of the original words. Guess more:\")\n",
    "            score += 2\n",
    "            original_words.remove(user_guess)\n",
    "        else:\n",
    "            chances -= 1\n",
    "            print(f\"\\nOops! Wrong Guess. Try Again, Chances Remaining: {chances}\")\n",
    "\n",
    "    if exit_flag:\n",
    "        break  # Exit the outer loop if the user chose to exit the game\n",
    "\n",
    "    if chances == 0:\n",
    "        print(\"\\nYou're out of chances. Moving to the next set.\")\n",
    "    else:\n",
    "        print(f\"Your Score: {score}\")\n",
    "        total_score += score\n",
    "\n",
    "print(f\"Your Total Score is: {total_score}\")\n"
   ]
  },
  {
   "cell_type": "code",
   "execution_count": 21,
   "id": "3beed934",
   "metadata": {},
   "outputs": [
    {
     "name": "stdout",
     "output_type": "stream",
     "text": [
      "1        1\n",
      "22      21\n",
      "333    321\n",
      "4444  4321\n",
      "5555554321\n"
     ]
    }
   ],
   "source": [
    "rows = 5\n",
    "\n",
    "for i in range(1, rows + 1):\n",
    "    # Print increasing numbers on the left side\n",
    "    for j in range(1, i + 1):\n",
    "        print(i, end='')\n",
    "\n",
    "    # Print spaces between the left and right sides\n",
    "    for k in range(2 * (rows - i)):\n",
    "        print(\"\", end=' ')\n",
    "\n",
    "    # Print decreasing numbers on the right side\n",
    "    for l in range(i, 0, -1):\n",
    "        print(l, end='')\n",
    "\n",
    "    # Move to the next line after each row\n",
    "    print()\n"
   ]
  },
  {
   "cell_type": "code",
   "execution_count": 26,
   "id": "d6de44cf",
   "metadata": {},
   "outputs": [
    {
     "name": "stdout",
     "output_type": "stream",
     "text": [
      "The sum of all even numbers between 100 and 200 is 7650\n"
     ]
    }
   ],
   "source": [
    "start_num= 100\n",
    "end_num= 200\n",
    "sum_num = 0\n",
    "current_num = start_num\n",
    "\n",
    "\n",
    "while current_num <= end_num:\n",
    "    if current_num%2 == 0:\n",
    "        sum_num= sum_num+ current_num\n",
    "    current_num = current_num+1\n",
    "print(f\"The sum of all even numbers between 100 and 200 is {sum_num}\")  "
   ]
  },
  {
   "cell_type": "code",
   "execution_count": 5,
   "id": "0e857fc8",
   "metadata": {},
   "outputs": [
    {
     "name": "stdout",
     "output_type": "stream",
     "text": [
      "Enter principal for set 1: 100\n",
      "Enter number of years for set 1: 10\n",
      "Enter rate of interest for set 1: 20\n",
      "Simple Interest for set 1: 200.0\n",
      "\n",
      "Enter principal for set 2: 201\n",
      "Enter number of years for set 2: 2\n",
      "Enter rate of interest for set 2: 20\n",
      "Simple Interest for set 2: 80.4\n",
      "\n",
      "Enter principal for set 3: 5000\n",
      "Enter number of years for set 3: 5\n",
      "Enter rate of interest for set 3: 10\n",
      "Simple Interest for set 3: 2500.0\n",
      "\n"
     ]
    }
   ],
   "source": [
    "def calculate_simple_interest(principal, years, rate):\n",
    "    simple_interest = (principal * years * rate) / 100\n",
    "    return simple_interest\n",
    "\n",
    "\n",
    "for i in range(3):\n",
    "    p = float(input(f\"Enter principal for set {i + 1}: \"))\n",
    "    n = int(input(f\"Enter number of years for set {i + 1}: \"))\n",
    "    r = float(input(f\"Enter rate of interest for set {i + 1}: \"))\n",
    "\n",
    "    interest = calculate_simple_interest(p, n, r)\n",
    "    print(f\"Simple Interest for set {i + 1}: {interest}\\n\")\n"
   ]
  },
  {
   "cell_type": "code",
   "execution_count": 6,
   "id": "0b8a3b34",
   "metadata": {},
   "outputs": [
    {
     "name": "stdout",
     "output_type": "stream",
     "text": [
      "Is the bus here? (yes/no): yes\n",
      "Great! The bus has arrived. Have a safe journey!\n"
     ]
    }
   ],
   "source": [
    "\n",
    "bus_arrived = False\n",
    "\n",
    "\n",
    "while not bus_arrived:\n",
    "    \n",
    "    user_input = input(\"Is the bus here? (yes/no): \").lower()\n",
    "\n",
    " \n",
    "    if user_input == \"yes\":\n",
    "        bus_arrived = True\n",
    "        print(\"Great! The bus has arrived. Have a safe journey!\")\n",
    "    elif user_input == \"no\":\n",
    "        print(\"Please be patient. The bus will arrive soon.\")\n",
    "    else:\n",
    "        print(\"Invalid input. Please enter 'yes' or 'no'.\")"
   ]
  },
  {
   "cell_type": "code",
   "execution_count": 2,
   "id": "0d791dd7",
   "metadata": {},
   "outputs": [
    {
     "name": "stdout",
     "output_type": "stream",
     "text": [
      "Enter the following information:\n",
      "Accession Number: 4444\n",
      "Title: Hello\n",
      "Author: RK Sharma\n",
      "Enter the number of days late: 14\n",
      "Fine charged for 14 days late: $21.00\n",
      "\n",
      "Library Record:\n",
      "Accession Number: 4444\n",
      "Title: Hello\n",
      "Author: RK Sharma\n",
      "Publisher: Some Publisher\n",
      "Days late: 14\n"
     ]
    }
   ],
   "source": [
    "class Library:\n",
    "    def __init__(self, acc_number, publisher, title, author):\n",
    "        self.acc_number = acc_number\n",
    "        self.publisher = publisher\n",
    "        self.title = title\n",
    "        self.author = author\n",
    "        self.days_late = 0  # Initialized to 0, will be used in compute() method\n",
    "\n",
    "    def read(self):\n",
    "        print(\"Enter the following information:\")\n",
    "        self.acc_number = input(\"Accession Number: \")\n",
    "        self.title = input(\"Title: \")\n",
    "        self.author = input(\"Author: \")\n",
    "\n",
    "    def compute(self):\n",
    "        self.days_late = int(input(\"Enter the number of days late: \"))\n",
    "        fine_rate = 1.50\n",
    "        fine = self.days_late * fine_rate\n",
    "        print(f\"Fine charged for {self.days_late} days late: ${fine:.2f}\")\n",
    "\n",
    "    def display(self):\n",
    "        print(\"\\nLibrary Record:\")\n",
    "        print(f\"Accession Number: {self.acc_number}\")\n",
    "        print(f\"Title: {self.title}\")\n",
    "        print(f\"Author: {self.author}\")\n",
    "        print(f\"Publisher: {self.publisher}\")\n",
    "        print(f\"Days late: {self.days_late}\")\n",
    "\n",
    "\n",
    "# usage:\n",
    "if __name__ == \"__main__\":\n",
    "    # Creating an instance of the Library class\n",
    "    book_record = Library(acc_number=\"\", publisher=\"Some Publisher\", title=\"\", author=\"Some Author\")\n",
    "\n",
    "    # Using the read() method to input data\n",
    "    book_record.read()\n",
    "\n",
    "    # Using the compute() method to calculate and display the fine\n",
    "    book_record.compute()\n",
    "\n",
    "    # Displaying the library record using the display() method\n",
    "    book_record.display()\n"
   ]
  },
  {
   "cell_type": "code",
   "execution_count": 4,
   "id": "27986ce1",
   "metadata": {},
   "outputs": [
    {
     "name": "stdout",
     "output_type": "stream",
     "text": [
      "Enter a string: hey guys welcome to my channel\n",
      "String after removing vowels: hy gys wlcm t my chnnl\n"
     ]
    }
   ],
   "source": [
    "def remove_vowels(input_string):\n",
    "    vowels = \"aeiouAEIOU\"\n",
    "    result_string = \"\"\n",
    "    \n",
    "    for i in input_string:\n",
    "        if i not in vowels:\n",
    "            result_string += i\n",
    "    \n",
    "    return result_string\n",
    "\n",
    "# Get input from the user\n",
    "user_input = input(\"Enter a string: \")\n",
    "\n",
    "# Remove vowels and display the result\n",
    "result = remove_vowels(user_input)\n",
    "print(f\"String after removing vowels: {result}\")\n"
   ]
  },
  {
   "cell_type": "code",
   "execution_count": 3,
   "id": "a84cb2db",
   "metadata": {},
   "outputs": [
    {
     "name": "stdout",
     "output_type": "stream",
     "text": [
      "original numbers are:  [100, 53, 3, 73, 72, 27, 39, 44, 61, 21]\n",
      "Even numbers are:  [100, 72, 44]\n",
      "Odd numbers are:  [53, 3, 73, 27, 39, 61, 21]\n"
     ]
    }
   ],
   "source": [
    "import random\n",
    "\n",
    "random_numbers= []\n",
    "for i in range(10):\n",
    "    random_numbers.append(random.randint(1,100))\n",
    "    \n",
    "odd_numbers= []\n",
    "even_numbers= []\n",
    "\n",
    "for i in random_numbers:\n",
    "    if i%2 == 0:\n",
    "        even_numbers.append(i)\n",
    "    else:\n",
    "        odd_numbers.append(i)\n",
    "        \n",
    "print(\"original numbers are: \",random_numbers)\n",
    "print(\"Even numbers are: \", even_numbers)\n",
    "print(\"Odd numbers are: \", odd_numbers)"
   ]
  },
  {
   "cell_type": "code",
   "execution_count": 8,
   "id": "2321f079",
   "metadata": {},
   "outputs": [
    {
     "name": "stdout",
     "output_type": "stream",
     "text": [
      "sorted friends dictonary{'a': 9744512356, 'c': 78952415625, 'd': 87895214568}\n",
      "Enter friend's name: b\n",
      "b's phone number is not found\n",
      "Enter b' phone number: 85452654121\n",
      "b's phone number (85452654121) has been added to the dictionary.\n",
      "here is your updated friends list: {'a': 9744512356, 'b': '85452654121', 'c': 78952415625, 'd': 87895214568}\n"
     ]
    }
   ],
   "source": [
    "friends= {\"a\": 9744512356, \"d\": 87895214568, \"c\": 78952415625}\n",
    "\n",
    "sorted_dict= dict(sorted(friends.items()))\n",
    "\n",
    "print(f\"sorted friends dictonary{sorted_dict}\")\n",
    "\n",
    "friend_name= input(\"Enter friend's name: \")\n",
    "\n",
    "if friend_name in friends:\n",
    "    print(f\"{friend_name}'s phone number is {friends[friend_name]}\")\n",
    "else:\n",
    "    print(f\"{friend_name}'s phone number is not found\")\n",
    "    phone_number= input(f\"Enter {friend_name}' phone number: \")\n",
    "    friends[friend_name] = phone_number\n",
    "    print(f\"{friend_name}'s phone number ({phone_number}) has been added to the dictionary.\")\n",
    "\n",
    "sorted_updated_dict= dict(sorted(friends.items()))\n",
    "print(f\"here is your updated friends list: {sorted_updated_dict}\")"
   ]
  },
  {
   "cell_type": "code",
   "execution_count": null,
   "id": "5749bab3",
   "metadata": {},
   "outputs": [],
   "source": []
  }
 ],
 "metadata": {
  "kernelspec": {
   "display_name": "Python 3 (ipykernel)",
   "language": "python",
   "name": "python3"
  },
  "language_info": {
   "codemirror_mode": {
    "name": "ipython",
    "version": 3
   },
   "file_extension": ".py",
   "mimetype": "text/x-python",
   "name": "python",
   "nbconvert_exporter": "python",
   "pygments_lexer": "ipython3",
   "version": "3.11.5"
  }
 },
 "nbformat": 4,
 "nbformat_minor": 5
}
